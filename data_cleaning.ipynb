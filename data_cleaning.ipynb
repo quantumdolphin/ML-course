{
  "nbformat": 4,
  "nbformat_minor": 0,
  "metadata": {
    "colab": {
      "provenance": [],
      "authorship_tag": "ABX9TyPa/1ZbkhInxwmiGdfoYi+/",
      "include_colab_link": true
    },
    "kernelspec": {
      "name": "python3",
      "display_name": "Python 3"
    },
    "language_info": {
      "name": "python"
    }
  },
  "cells": [
    {
      "cell_type": "markdown",
      "metadata": {
        "id": "view-in-github",
        "colab_type": "text"
      },
      "source": [
        "<a href=\"https://colab.research.google.com/github/quantumdolphin/ML-course/blob/main/data_cleaning.ipynb\" target=\"_parent\"><img src=\"https://colab.research.google.com/assets/colab-badge.svg\" alt=\"Open In Colab\"/></a>"
      ]
    },
    {
      "cell_type": "code",
      "source": [
        "# 🧹 Data Cleaning & Outlier Detection Notebook"
      ],
      "metadata": {
        "id": "XtO_jn9Vw82U"
      },
      "execution_count": 2,
      "outputs": []
    },
    {
      "cell_type": "code",
      "execution_count": 7,
      "metadata": {
        "colab": {
          "base_uri": "https://localhost:8080/",
          "height": 519
        },
        "id": "uMi9PD6SXXnU",
        "outputId": "a1719bf0-0dbd-45cd-c95f-dd1c96489175"
      },
      "outputs": [
        {
          "output_type": "execute_result",
          "data": {
            "text/plain": [
              "    id    age state     income gender\n",
              "0    1   25.0    NY    50000.0      M\n",
              "1    2   30.0    ny    60000.0      F\n",
              "2    2   30.0    ny    60000.0      F\n",
              "3    3   22.0    TX    40000.0      F\n",
              "4    4    NaN    TX    80000.0      M\n",
              "5    5   35.0    CA    20000.0      M\n",
              "6    6   40.0    CA    70000.0    NaN\n",
              "7    7  100.0    NY        NaN      F\n",
              "8    8   28.0    CA  1000000.0      F\n",
              "9    8   28.0    CA  1000000.0      F\n",
              "10   9   26.0    CA    58000.0      M\n",
              "11  10   29.0    CA    62000.0      M\n",
              "12   3   22.0    TX    40000.0      F\n",
              "13   5   35.0    CA    20000.0      M\n",
              "14  10   29.0    CA    62000.0      M"
            ],
            "text/html": [
              "\n",
              "  <div id=\"df-b27f7837-3d0c-40b8-83fd-bbbeb6b67180\" class=\"colab-df-container\">\n",
              "    <div>\n",
              "<style scoped>\n",
              "    .dataframe tbody tr th:only-of-type {\n",
              "        vertical-align: middle;\n",
              "    }\n",
              "\n",
              "    .dataframe tbody tr th {\n",
              "        vertical-align: top;\n",
              "    }\n",
              "\n",
              "    .dataframe thead th {\n",
              "        text-align: right;\n",
              "    }\n",
              "</style>\n",
              "<table border=\"1\" class=\"dataframe\">\n",
              "  <thead>\n",
              "    <tr style=\"text-align: right;\">\n",
              "      <th></th>\n",
              "      <th>id</th>\n",
              "      <th>age</th>\n",
              "      <th>state</th>\n",
              "      <th>income</th>\n",
              "      <th>gender</th>\n",
              "    </tr>\n",
              "  </thead>\n",
              "  <tbody>\n",
              "    <tr>\n",
              "      <th>0</th>\n",
              "      <td>1</td>\n",
              "      <td>25.0</td>\n",
              "      <td>NY</td>\n",
              "      <td>50000.0</td>\n",
              "      <td>M</td>\n",
              "    </tr>\n",
              "    <tr>\n",
              "      <th>1</th>\n",
              "      <td>2</td>\n",
              "      <td>30.0</td>\n",
              "      <td>ny</td>\n",
              "      <td>60000.0</td>\n",
              "      <td>F</td>\n",
              "    </tr>\n",
              "    <tr>\n",
              "      <th>2</th>\n",
              "      <td>2</td>\n",
              "      <td>30.0</td>\n",
              "      <td>ny</td>\n",
              "      <td>60000.0</td>\n",
              "      <td>F</td>\n",
              "    </tr>\n",
              "    <tr>\n",
              "      <th>3</th>\n",
              "      <td>3</td>\n",
              "      <td>22.0</td>\n",
              "      <td>TX</td>\n",
              "      <td>40000.0</td>\n",
              "      <td>F</td>\n",
              "    </tr>\n",
              "    <tr>\n",
              "      <th>4</th>\n",
              "      <td>4</td>\n",
              "      <td>NaN</td>\n",
              "      <td>TX</td>\n",
              "      <td>80000.0</td>\n",
              "      <td>M</td>\n",
              "    </tr>\n",
              "    <tr>\n",
              "      <th>5</th>\n",
              "      <td>5</td>\n",
              "      <td>35.0</td>\n",
              "      <td>CA</td>\n",
              "      <td>20000.0</td>\n",
              "      <td>M</td>\n",
              "    </tr>\n",
              "    <tr>\n",
              "      <th>6</th>\n",
              "      <td>6</td>\n",
              "      <td>40.0</td>\n",
              "      <td>CA</td>\n",
              "      <td>70000.0</td>\n",
              "      <td>NaN</td>\n",
              "    </tr>\n",
              "    <tr>\n",
              "      <th>7</th>\n",
              "      <td>7</td>\n",
              "      <td>100.0</td>\n",
              "      <td>NY</td>\n",
              "      <td>NaN</td>\n",
              "      <td>F</td>\n",
              "    </tr>\n",
              "    <tr>\n",
              "      <th>8</th>\n",
              "      <td>8</td>\n",
              "      <td>28.0</td>\n",
              "      <td>CA</td>\n",
              "      <td>1000000.0</td>\n",
              "      <td>F</td>\n",
              "    </tr>\n",
              "    <tr>\n",
              "      <th>9</th>\n",
              "      <td>8</td>\n",
              "      <td>28.0</td>\n",
              "      <td>CA</td>\n",
              "      <td>1000000.0</td>\n",
              "      <td>F</td>\n",
              "    </tr>\n",
              "    <tr>\n",
              "      <th>10</th>\n",
              "      <td>9</td>\n",
              "      <td>26.0</td>\n",
              "      <td>CA</td>\n",
              "      <td>58000.0</td>\n",
              "      <td>M</td>\n",
              "    </tr>\n",
              "    <tr>\n",
              "      <th>11</th>\n",
              "      <td>10</td>\n",
              "      <td>29.0</td>\n",
              "      <td>CA</td>\n",
              "      <td>62000.0</td>\n",
              "      <td>M</td>\n",
              "    </tr>\n",
              "    <tr>\n",
              "      <th>12</th>\n",
              "      <td>3</td>\n",
              "      <td>22.0</td>\n",
              "      <td>TX</td>\n",
              "      <td>40000.0</td>\n",
              "      <td>F</td>\n",
              "    </tr>\n",
              "    <tr>\n",
              "      <th>13</th>\n",
              "      <td>5</td>\n",
              "      <td>35.0</td>\n",
              "      <td>CA</td>\n",
              "      <td>20000.0</td>\n",
              "      <td>M</td>\n",
              "    </tr>\n",
              "    <tr>\n",
              "      <th>14</th>\n",
              "      <td>10</td>\n",
              "      <td>29.0</td>\n",
              "      <td>CA</td>\n",
              "      <td>62000.0</td>\n",
              "      <td>M</td>\n",
              "    </tr>\n",
              "  </tbody>\n",
              "</table>\n",
              "</div>\n",
              "    <div class=\"colab-df-buttons\">\n",
              "\n",
              "  <div class=\"colab-df-container\">\n",
              "    <button class=\"colab-df-convert\" onclick=\"convertToInteractive('df-b27f7837-3d0c-40b8-83fd-bbbeb6b67180')\"\n",
              "            title=\"Convert this dataframe to an interactive table.\"\n",
              "            style=\"display:none;\">\n",
              "\n",
              "  <svg xmlns=\"http://www.w3.org/2000/svg\" height=\"24px\" viewBox=\"0 -960 960 960\">\n",
              "    <path d=\"M120-120v-720h720v720H120Zm60-500h600v-160H180v160Zm220 220h160v-160H400v160Zm0 220h160v-160H400v160ZM180-400h160v-160H180v160Zm440 0h160v-160H620v160ZM180-180h160v-160H180v160Zm440 0h160v-160H620v160Z\"/>\n",
              "  </svg>\n",
              "    </button>\n",
              "\n",
              "  <style>\n",
              "    .colab-df-container {\n",
              "      display:flex;\n",
              "      gap: 12px;\n",
              "    }\n",
              "\n",
              "    .colab-df-convert {\n",
              "      background-color: #E8F0FE;\n",
              "      border: none;\n",
              "      border-radius: 50%;\n",
              "      cursor: pointer;\n",
              "      display: none;\n",
              "      fill: #1967D2;\n",
              "      height: 32px;\n",
              "      padding: 0 0 0 0;\n",
              "      width: 32px;\n",
              "    }\n",
              "\n",
              "    .colab-df-convert:hover {\n",
              "      background-color: #E2EBFA;\n",
              "      box-shadow: 0px 1px 2px rgba(60, 64, 67, 0.3), 0px 1px 3px 1px rgba(60, 64, 67, 0.15);\n",
              "      fill: #174EA6;\n",
              "    }\n",
              "\n",
              "    .colab-df-buttons div {\n",
              "      margin-bottom: 4px;\n",
              "    }\n",
              "\n",
              "    [theme=dark] .colab-df-convert {\n",
              "      background-color: #3B4455;\n",
              "      fill: #D2E3FC;\n",
              "    }\n",
              "\n",
              "    [theme=dark] .colab-df-convert:hover {\n",
              "      background-color: #434B5C;\n",
              "      box-shadow: 0px 1px 3px 1px rgba(0, 0, 0, 0.15);\n",
              "      filter: drop-shadow(0px 1px 2px rgba(0, 0, 0, 0.3));\n",
              "      fill: #FFFFFF;\n",
              "    }\n",
              "  </style>\n",
              "\n",
              "    <script>\n",
              "      const buttonEl =\n",
              "        document.querySelector('#df-b27f7837-3d0c-40b8-83fd-bbbeb6b67180 button.colab-df-convert');\n",
              "      buttonEl.style.display =\n",
              "        google.colab.kernel.accessAllowed ? 'block' : 'none';\n",
              "\n",
              "      async function convertToInteractive(key) {\n",
              "        const element = document.querySelector('#df-b27f7837-3d0c-40b8-83fd-bbbeb6b67180');\n",
              "        const dataTable =\n",
              "          await google.colab.kernel.invokeFunction('convertToInteractive',\n",
              "                                                    [key], {});\n",
              "        if (!dataTable) return;\n",
              "\n",
              "        const docLinkHtml = 'Like what you see? Visit the ' +\n",
              "          '<a target=\"_blank\" href=https://colab.research.google.com/notebooks/data_table.ipynb>data table notebook</a>'\n",
              "          + ' to learn more about interactive tables.';\n",
              "        element.innerHTML = '';\n",
              "        dataTable['output_type'] = 'display_data';\n",
              "        await google.colab.output.renderOutput(dataTable, element);\n",
              "        const docLink = document.createElement('div');\n",
              "        docLink.innerHTML = docLinkHtml;\n",
              "        element.appendChild(docLink);\n",
              "      }\n",
              "    </script>\n",
              "  </div>\n",
              "\n",
              "\n",
              "    <div id=\"df-e6f02204-c50c-426b-a781-80b19d453fb8\">\n",
              "      <button class=\"colab-df-quickchart\" onclick=\"quickchart('df-e6f02204-c50c-426b-a781-80b19d453fb8')\"\n",
              "                title=\"Suggest charts\"\n",
              "                style=\"display:none;\">\n",
              "\n",
              "<svg xmlns=\"http://www.w3.org/2000/svg\" height=\"24px\"viewBox=\"0 0 24 24\"\n",
              "     width=\"24px\">\n",
              "    <g>\n",
              "        <path d=\"M19 3H5c-1.1 0-2 .9-2 2v14c0 1.1.9 2 2 2h14c1.1 0 2-.9 2-2V5c0-1.1-.9-2-2-2zM9 17H7v-7h2v7zm4 0h-2V7h2v10zm4 0h-2v-4h2v4z\"/>\n",
              "    </g>\n",
              "</svg>\n",
              "      </button>\n",
              "\n",
              "<style>\n",
              "  .colab-df-quickchart {\n",
              "      --bg-color: #E8F0FE;\n",
              "      --fill-color: #1967D2;\n",
              "      --hover-bg-color: #E2EBFA;\n",
              "      --hover-fill-color: #174EA6;\n",
              "      --disabled-fill-color: #AAA;\n",
              "      --disabled-bg-color: #DDD;\n",
              "  }\n",
              "\n",
              "  [theme=dark] .colab-df-quickchart {\n",
              "      --bg-color: #3B4455;\n",
              "      --fill-color: #D2E3FC;\n",
              "      --hover-bg-color: #434B5C;\n",
              "      --hover-fill-color: #FFFFFF;\n",
              "      --disabled-bg-color: #3B4455;\n",
              "      --disabled-fill-color: #666;\n",
              "  }\n",
              "\n",
              "  .colab-df-quickchart {\n",
              "    background-color: var(--bg-color);\n",
              "    border: none;\n",
              "    border-radius: 50%;\n",
              "    cursor: pointer;\n",
              "    display: none;\n",
              "    fill: var(--fill-color);\n",
              "    height: 32px;\n",
              "    padding: 0;\n",
              "    width: 32px;\n",
              "  }\n",
              "\n",
              "  .colab-df-quickchart:hover {\n",
              "    background-color: var(--hover-bg-color);\n",
              "    box-shadow: 0 1px 2px rgba(60, 64, 67, 0.3), 0 1px 3px 1px rgba(60, 64, 67, 0.15);\n",
              "    fill: var(--button-hover-fill-color);\n",
              "  }\n",
              "\n",
              "  .colab-df-quickchart-complete:disabled,\n",
              "  .colab-df-quickchart-complete:disabled:hover {\n",
              "    background-color: var(--disabled-bg-color);\n",
              "    fill: var(--disabled-fill-color);\n",
              "    box-shadow: none;\n",
              "  }\n",
              "\n",
              "  .colab-df-spinner {\n",
              "    border: 2px solid var(--fill-color);\n",
              "    border-color: transparent;\n",
              "    border-bottom-color: var(--fill-color);\n",
              "    animation:\n",
              "      spin 1s steps(1) infinite;\n",
              "  }\n",
              "\n",
              "  @keyframes spin {\n",
              "    0% {\n",
              "      border-color: transparent;\n",
              "      border-bottom-color: var(--fill-color);\n",
              "      border-left-color: var(--fill-color);\n",
              "    }\n",
              "    20% {\n",
              "      border-color: transparent;\n",
              "      border-left-color: var(--fill-color);\n",
              "      border-top-color: var(--fill-color);\n",
              "    }\n",
              "    30% {\n",
              "      border-color: transparent;\n",
              "      border-left-color: var(--fill-color);\n",
              "      border-top-color: var(--fill-color);\n",
              "      border-right-color: var(--fill-color);\n",
              "    }\n",
              "    40% {\n",
              "      border-color: transparent;\n",
              "      border-right-color: var(--fill-color);\n",
              "      border-top-color: var(--fill-color);\n",
              "    }\n",
              "    60% {\n",
              "      border-color: transparent;\n",
              "      border-right-color: var(--fill-color);\n",
              "    }\n",
              "    80% {\n",
              "      border-color: transparent;\n",
              "      border-right-color: var(--fill-color);\n",
              "      border-bottom-color: var(--fill-color);\n",
              "    }\n",
              "    90% {\n",
              "      border-color: transparent;\n",
              "      border-bottom-color: var(--fill-color);\n",
              "    }\n",
              "  }\n",
              "</style>\n",
              "\n",
              "      <script>\n",
              "        async function quickchart(key) {\n",
              "          const quickchartButtonEl =\n",
              "            document.querySelector('#' + key + ' button');\n",
              "          quickchartButtonEl.disabled = true;  // To prevent multiple clicks.\n",
              "          quickchartButtonEl.classList.add('colab-df-spinner');\n",
              "          try {\n",
              "            const charts = await google.colab.kernel.invokeFunction(\n",
              "                'suggestCharts', [key], {});\n",
              "          } catch (error) {\n",
              "            console.error('Error during call to suggestCharts:', error);\n",
              "          }\n",
              "          quickchartButtonEl.classList.remove('colab-df-spinner');\n",
              "          quickchartButtonEl.classList.add('colab-df-quickchart-complete');\n",
              "        }\n",
              "        (() => {\n",
              "          let quickchartButtonEl =\n",
              "            document.querySelector('#df-e6f02204-c50c-426b-a781-80b19d453fb8 button');\n",
              "          quickchartButtonEl.style.display =\n",
              "            google.colab.kernel.accessAllowed ? 'block' : 'none';\n",
              "        })();\n",
              "      </script>\n",
              "    </div>\n",
              "\n",
              "  <div id=\"id_62a8886e-4431-4ae5-9cfe-c0e5965bb111\">\n",
              "    <style>\n",
              "      .colab-df-generate {\n",
              "        background-color: #E8F0FE;\n",
              "        border: none;\n",
              "        border-radius: 50%;\n",
              "        cursor: pointer;\n",
              "        display: none;\n",
              "        fill: #1967D2;\n",
              "        height: 32px;\n",
              "        padding: 0 0 0 0;\n",
              "        width: 32px;\n",
              "      }\n",
              "\n",
              "      .colab-df-generate:hover {\n",
              "        background-color: #E2EBFA;\n",
              "        box-shadow: 0px 1px 2px rgba(60, 64, 67, 0.3), 0px 1px 3px 1px rgba(60, 64, 67, 0.15);\n",
              "        fill: #174EA6;\n",
              "      }\n",
              "\n",
              "      [theme=dark] .colab-df-generate {\n",
              "        background-color: #3B4455;\n",
              "        fill: #D2E3FC;\n",
              "      }\n",
              "\n",
              "      [theme=dark] .colab-df-generate:hover {\n",
              "        background-color: #434B5C;\n",
              "        box-shadow: 0px 1px 3px 1px rgba(0, 0, 0, 0.15);\n",
              "        filter: drop-shadow(0px 1px 2px rgba(0, 0, 0, 0.3));\n",
              "        fill: #FFFFFF;\n",
              "      }\n",
              "    </style>\n",
              "    <button class=\"colab-df-generate\" onclick=\"generateWithVariable('df')\"\n",
              "            title=\"Generate code using this dataframe.\"\n",
              "            style=\"display:none;\">\n",
              "\n",
              "  <svg xmlns=\"http://www.w3.org/2000/svg\" height=\"24px\"viewBox=\"0 0 24 24\"\n",
              "       width=\"24px\">\n",
              "    <path d=\"M7,19H8.4L18.45,9,17,7.55,7,17.6ZM5,21V16.75L18.45,3.32a2,2,0,0,1,2.83,0l1.4,1.43a1.91,1.91,0,0,1,.58,1.4,1.91,1.91,0,0,1-.58,1.4L9.25,21ZM18.45,9,17,7.55Zm-12,3A5.31,5.31,0,0,0,4.9,8.1,5.31,5.31,0,0,0,1,6.5,5.31,5.31,0,0,0,4.9,4.9,5.31,5.31,0,0,0,6.5,1,5.31,5.31,0,0,0,8.1,4.9,5.31,5.31,0,0,0,12,6.5,5.46,5.46,0,0,0,6.5,12Z\"/>\n",
              "  </svg>\n",
              "    </button>\n",
              "    <script>\n",
              "      (() => {\n",
              "      const buttonEl =\n",
              "        document.querySelector('#id_62a8886e-4431-4ae5-9cfe-c0e5965bb111 button.colab-df-generate');\n",
              "      buttonEl.style.display =\n",
              "        google.colab.kernel.accessAllowed ? 'block' : 'none';\n",
              "\n",
              "      buttonEl.onclick = () => {\n",
              "        google.colab.notebook.generateWithVariable('df');\n",
              "      }\n",
              "      })();\n",
              "    </script>\n",
              "  </div>\n",
              "\n",
              "    </div>\n",
              "  </div>\n"
            ],
            "application/vnd.google.colaboratory.intrinsic+json": {
              "type": "dataframe",
              "variable_name": "df",
              "summary": "{\n  \"name\": \"df\",\n  \"rows\": 15,\n  \"fields\": [\n    {\n      \"column\": \"id\",\n      \"properties\": {\n        \"dtype\": \"number\",\n        \"std\": 3,\n        \"min\": 1,\n        \"max\": 10,\n        \"num_unique_values\": 10,\n        \"samples\": [\n          9,\n          2,\n          6\n        ],\n        \"semantic_type\": \"\",\n        \"description\": \"\"\n      }\n    },\n    {\n      \"column\": \"age\",\n      \"properties\": {\n        \"dtype\": \"number\",\n        \"std\": 19.573052792152676,\n        \"min\": 22.0,\n        \"max\": 100.0,\n        \"num_unique_values\": 9,\n        \"samples\": [\n          26.0,\n          30.0,\n          100.0\n        ],\n        \"semantic_type\": \"\",\n        \"description\": \"\"\n      }\n    },\n    {\n      \"column\": \"state\",\n      \"properties\": {\n        \"dtype\": \"category\",\n        \"num_unique_values\": 4,\n        \"samples\": [\n          \"ny\",\n          \"CA\",\n          \"NY\"\n        ],\n        \"semantic_type\": \"\",\n        \"description\": \"\"\n      }\n    },\n    {\n      \"column\": \"income\",\n      \"properties\": {\n        \"dtype\": \"number\",\n        \"std\": 344739.4620627245,\n        \"min\": 20000.0,\n        \"max\": 1000000.0,\n        \"num_unique_values\": 9,\n        \"samples\": [\n          58000.0,\n          60000.0,\n          70000.0\n        ],\n        \"semantic_type\": \"\",\n        \"description\": \"\"\n      }\n    },\n    {\n      \"column\": \"gender\",\n      \"properties\": {\n        \"dtype\": \"category\",\n        \"num_unique_values\": 2,\n        \"samples\": [\n          \"F\",\n          \"M\"\n        ],\n        \"semantic_type\": \"\",\n        \"description\": \"\"\n      }\n    }\n  ]\n}"
            }
          },
          "metadata": {},
          "execution_count": 7
        }
      ],
      "source": [
        "# 1. Setup: Create Sample DataFrame with Common Issues\n",
        "import pandas as pd\n",
        "import numpy as np\n",
        "import matplotlib.pyplot as plt\n",
        "\n",
        "# Simulate messy data\n",
        "data = {\n",
        "    'id':     [1, 2, 2, 3, 4, 5, 6, 7, 8, 8, 9, 10, 3, 5, 10],\n",
        "    'age':    [25, 30, 30, 22, np.nan, 35, 40, 100, 28, 28, 26, 29, 22, 35, 29],  # ages repeated for some ids\n",
        "    'state':  ['NY', 'ny', 'ny', 'TX', 'TX', 'CA', 'CA', 'NY', 'CA', 'CA', 'CA', 'CA', 'TX', 'CA', 'CA'],\n",
        "    'income': [50000, 60000, 60000, 40000, 80000, 20000, 70000, None, 1000000, 1000000, 58000, 62000, 40000, 20000, 62000],\n",
        "    'gender': ['M', 'F', 'F', 'F', 'M', 'M', np.nan, 'F', 'F', 'F', 'M', 'M', 'F', 'M', 'M']\n",
        "}\n",
        "\n",
        "df = pd.DataFrame(data)\n",
        "df\n"
      ]
    },
    {
      "cell_type": "code",
      "source": [
        "print(df.info())\n",
        "print(df.describe(include='all'))\n",
        "print(df.head())"
      ],
      "metadata": {
        "colab": {
          "base_uri": "https://localhost:8080/"
        },
        "id": "AAuDzIT3w4uE",
        "outputId": "7650b8f6-66be-47ad-f03d-a4725fd36604"
      },
      "execution_count": 8,
      "outputs": [
        {
          "output_type": "stream",
          "name": "stdout",
          "text": [
            "<class 'pandas.core.frame.DataFrame'>\n",
            "RangeIndex: 15 entries, 0 to 14\n",
            "Data columns (total 5 columns):\n",
            " #   Column  Non-Null Count  Dtype  \n",
            "---  ------  --------------  -----  \n",
            " 0   id      15 non-null     int64  \n",
            " 1   age     14 non-null     float64\n",
            " 2   state   15 non-null     object \n",
            " 3   income  14 non-null     float64\n",
            " 4   gender  14 non-null     object \n",
            "dtypes: float64(2), int64(1), object(2)\n",
            "memory usage: 732.0+ bytes\n",
            "None\n",
            "               id         age state          income gender\n",
            "count   15.000000   14.000000    15       14.000000     14\n",
            "unique        NaN         NaN     4             NaN      2\n",
            "top           NaN         NaN    CA             NaN      M\n",
            "freq          NaN         NaN     8             NaN      7\n",
            "mean     5.533333   34.214286   NaN   187285.714286    NaN\n",
            "std      3.020564   19.573053   NaN   344739.462063    NaN\n",
            "min      1.000000   22.000000   NaN    20000.000000    NaN\n",
            "25%      3.000000   26.500000   NaN    42500.000000    NaN\n",
            "50%      5.000000   29.000000   NaN    60000.000000    NaN\n",
            "75%      8.000000   33.750000   NaN    68000.000000    NaN\n",
            "max     10.000000  100.000000   NaN  1000000.000000    NaN\n",
            "   id   age state   income gender\n",
            "0   1  25.0    NY  50000.0      M\n",
            "1   2  30.0    ny  60000.0      F\n",
            "2   2  30.0    ny  60000.0      F\n",
            "3   3  22.0    TX  40000.0      F\n",
            "4   4   NaN    TX  80000.0      M\n"
          ]
        }
      ]
    },
    {
      "cell_type": "markdown",
      "source": [
        "## What does `df.info()` tell you in Pandas?\n",
        "\n",
        "- **Number of rows and columns:** Shows the shape of your DataFrame.\n",
        "- **Column names and their order:** Lists each column in order.\n",
        "- **Data types:** Displays the data type of each column (e.g., `int64`, `float64`, `object` for strings).\n",
        "- **Non-null count:** Shows how many non-missing (non-null) values each column has, making it easy to spot missing data.\n",
        "- **Memory usage:** Tells you how much RAM the DataFrame is using.\n",
        "\n",
        "**Tip:**  \n",
        "If a column's non-null count is less than the total number of rows, it means that column has missing values.\n"
      ],
      "metadata": {
        "id": "15iaoV3G83sv"
      }
    },
    {
      "cell_type": "markdown",
      "source": [
        "## Understanding `df.describe(include='all')` in Pandas\n",
        "\n",
        "- When you run `df.describe(include='all')`, Pandas shows both numeric and categorical statistics for every column—even if some stats don’t make sense for that column type.\n",
        "- **Numeric columns** (like `age`, `income`) will display values for stats such as mean and standard deviation, but will show `NaN` for categorical stats like `unique`, `top`, and `freq` because those don’t apply to numbers.\n",
        "- **Categorical columns** (like `state`, `gender`) will display values for stats like `unique`, `top`, and `freq`, but show `NaN` for numeric stats (mean, std, min, max, etc.) because those don’t apply to text.\n",
        "\n",
        "**In short:**  \n",
        "If you see `NaN` in the summary table, it just means “not applicable” for that particular statistic and column.\n"
      ],
      "metadata": {
        "id": "N87hoTss8kJd"
      }
    },
    {
      "cell_type": "code",
      "source": [
        "#FIND DUPLICATES\n",
        "#print(df.duplicated())\n",
        "# Print total number of duplicate rows (excluding first occurrences)\n",
        "print(\"Number of duplicate rows:\", df.duplicated().sum())\n",
        "\n",
        "# Optionally: Show all duplicate rows (excluding the first occurrence)\n",
        "print(\"Duplicate rows (excluding the first occurrence):\")\n",
        "print(df[df.duplicated()])"
      ],
      "metadata": {
        "colab": {
          "base_uri": "https://localhost:8080/"
        },
        "id": "NAbC6W7VxkQF",
        "outputId": "310d950a-0632-453e-fecb-577fa0e3c650"
      },
      "execution_count": 11,
      "outputs": [
        {
          "output_type": "stream",
          "name": "stdout",
          "text": [
            "Number of duplicate rows: 5\n",
            "Duplicate rows (excluding the first occurrence):\n",
            "    id   age state     income gender\n",
            "2    2  30.0    ny    60000.0      F\n",
            "9    8  28.0    CA  1000000.0      F\n",
            "12   3  22.0    TX    40000.0      F\n",
            "13   5  35.0    CA    20000.0      M\n",
            "14  10  29.0    CA    62000.0      M\n"
          ]
        }
      ]
    },
    {
      "cell_type": "markdown",
      "source": [
        "## What does `.duplicated()` do in Pandas?\n",
        "\n",
        "- `.duplicated()` returns a **Boolean Series** indicating whether each row is a duplicate of a previous row in the DataFrame.\n",
        "- A value of `True` means “this row is a duplicate of an earlier row.”\n",
        "- A value of `False` means “this row is unique so far.”\n",
        "\n",
        "**How does it work?**\n",
        "- By default, `.duplicated()` checks all columns.\n",
        "- The **first occurrence** of each unique row is marked `False`.\n",
        "- Any further identical rows are marked `True`.\n",
        "\n"
      ],
      "metadata": {
        "id": "imzs_KWf-lHX"
      }
    },
    {
      "cell_type": "code",
      "source": [
        "print(\"Total rows before removing duplicates:\", len(df))\n",
        "\n",
        "df_clean = df.drop_duplicates()\n",
        "\n",
        "print(\"Total rows after removing duplicates:\", len(df_clean))\n",
        "print(\"After removing duplicates:\")\n",
        "#print(df_clean)\n"
      ],
      "metadata": {
        "colab": {
          "base_uri": "https://localhost:8080/"
        },
        "id": "WcIGq43E-QnV",
        "outputId": "d2f7e470-8d43-47b3-e592-f67445fb54e6"
      },
      "execution_count": 13,
      "outputs": [
        {
          "output_type": "stream",
          "name": "stdout",
          "text": [
            "Total rows before removing duplicates: 15\n",
            "Total rows after removing duplicates: 10\n",
            "After removing duplicates:\n"
          ]
        }
      ]
    },
    {
      "cell_type": "code",
      "source": [
        "# Make an explicit copy to avoid SettingWithCopyWarning\n",
        "# This ensures that subsequent operations (like standardizing text columns)\n",
        "# are performed safely on a true copy, not a view of the original DataFrame.\n",
        "df_clean = df_clean.copy()\n",
        "\n"
      ],
      "metadata": {
        "id": "if1-rSBeB0EK"
      },
      "execution_count": 20,
      "outputs": []
    },
    {
      "cell_type": "markdown",
      "source": [
        "## What does `drop_duplicates()` do in Pandas?\n",
        "\n",
        "- `drop_duplicates()` **removes rows in your DataFrame that are exact duplicates of earlier rows.**\n",
        "- By default, it **keeps the first occurrence** of each unique row and **drops any subsequent duplicates**.\n",
        "- Rows are considered duplicates if **all their column values match exactly** (unless you specify certain columns with `subset`).\n"
      ],
      "metadata": {
        "id": "0gCG2z51AeTX"
      }
    },
    {
      "cell_type": "code",
      "source": [
        "# Find all text (object) columns in your DataFrame\n",
        "text_cols = df.select_dtypes(include='object').columns\n",
        "print(\"Text columns are:\", list(text_cols))\n"
      ],
      "metadata": {
        "colab": {
          "base_uri": "https://localhost:8080/"
        },
        "id": "2DwyF5cFAYcw",
        "outputId": "ab1954a6-a214-4e21-f0c1-48ab149c6006"
      },
      "execution_count": 18,
      "outputs": [
        {
          "output_type": "stream",
          "name": "stdout",
          "text": [
            "Text columns are: ['state', 'gender']\n"
          ]
        }
      ]
    },
    {
      "cell_type": "markdown",
      "source": [
        "## How and Why to Standardize Text Columns\n",
        "\n",
        "- **Why?**  \n",
        "  Text columns often contain inconsistencies such as differences in capitalization, extra spaces, or typos (e.g., `\"CA\"` vs `\" ca \"` vs `\"Ca\"`).  \n",
        "  Standardizing makes your data more consistent, helps prevent errors in analysis, and ensures that values meant to be the same are actually treated as equal.\n",
        "\n",
        "- **How to standardize:**  \n",
        "  - Remove extra spaces at the beginning or end (`str.strip()`).\n",
        "  - Convert all text to the same case, usually uppercase (`str.upper()`) or lowercase (`str.lower()`).\n",
        "  - (Optional) Replace common misspellings or typos.\n"
      ],
      "metadata": {
        "id": "KZSWjC6SBLRX"
      }
    },
    {
      "cell_type": "code",
      "source": [
        "# Remove leading/trailing spaces and convert to uppercase\n",
        "df_clean['state'] = df_clean['state'].str.strip().str.upper()\n",
        "print(df_clean['state'].value_counts())\n",
        "# Remove leading/trailing spaces and convert to uppercase\n",
        "df_clean['gender'] = df_clean['gender'].str.strip().str.upper()\n",
        "print(df_clean['gender'].value_counts())\n"
      ],
      "metadata": {
        "colab": {
          "base_uri": "https://localhost:8080/"
        },
        "id": "oEd6e9N2BFN9",
        "outputId": "b9691e8b-46ce-4b3c-e472-fead32b70ec5"
      },
      "execution_count": 19,
      "outputs": [
        {
          "output_type": "stream",
          "name": "stdout",
          "text": [
            "state\n",
            "CA    5\n",
            "NY    3\n",
            "TX    2\n",
            "Name: count, dtype: int64\n",
            "gender\n",
            "M    5\n",
            "F    4\n",
            "Name: count, dtype: int64\n"
          ]
        }
      ]
    },
    {
      "cell_type": "markdown",
      "source": [
        "## Handling Missing Values\n",
        "\n",
        "In this step, we check for and fill in missing values in our DataFrame:\n",
        "\n",
        "- `df_clean.isnull().sum()`  \n",
        "  Prints the number of missing values in each column.\n",
        "\n",
        "- `df_clean['age'] = df_clean['age'].fillna(df_clean['age'].median())`  \n",
        "  Fills missing values in the `age` column with the **median age** of the dataset. Median is robust to outliers.\n",
        "\n",
        "- `df_clean['income'] = df_clean['income'].fillna(df_clean['income'].median())`  \n",
        "  Fills missing values in the `income` column with the **median income**.\n",
        "\n",
        "- `df_clean['gender'] = df_clean['gender'].fillna(df_clean['gender'].mode()[0])`  \n",
        "  Fills missing values in the `gender` column with the **most common value** (the mode) in that column.\n",
        "\n",
        "**Why do this?**  \n",
        "Filling missing values helps ensure that your dataset is complete and ready for analysis or machine learning, since many algorithms cannot handle missing data directly. Choosing the median (for numeric columns) and mode (for categorical columns) is a common and simple strategy to avoid introducing bias from extreme values or rare categories.\n",
        "## Other Ways to Fill in Missing Values\n",
        "\n",
        "Besides using the **median**, you can fill missing values with:\n",
        "\n",
        "- **Mean**  \n",
        "  Good when data is normally distributed and you want to use the average value.\n",
        "- **Constant value**  \n",
        "  Useful for marking missing entries explicitly (e.g., with 0 or 'Unknown').\n",
        "- **Forward/Backward Fill**  \n",
        "  Propagates previous/next valid value, useful for time series.\n",
        "- **Interpolate**  \n",
        "  Estimates missing values based on other value"
      ],
      "metadata": {
        "id": "jh-b3hAtCctB"
      }
    },
    {
      "cell_type": "markdown",
      "source": [
        "## Checking for Normal Distribution and Understanding Kurtosis\n",
        "\n",
        "**Step 1: Check for Normality (Visual Inspection)**\n",
        "- Plot a **histogram** and **boxplot** for each numeric column to see if the data follows a bell curve (normal distribution).\n",
        "- If the distribution is symmetric, unimodal (one peak), and has few outliers, it is likely close to normal.\n",
        "\n",
        "**Step 2: Understand Kurtosis**\n",
        "- **Kurtosis** measures how “heavy” or “light” the tails of your distribution are (i.e., the tendency for outliers).\n",
        "    - **High kurtosis:** more outliers than normal (fat tails).\n",
        "    - **Low kurtosis:** fewer outliers (thin tails).\n",
        "    - **Normal kurtosis:** similar to normal distribution.\n",
        "- **In pandas, kurtosis of 0 means"
      ],
      "metadata": {
        "id": "OyhQGqhVHzOX"
      }
    },
    {
      "cell_type": "code",
      "source": [
        "print(df_clean.isnull().sum())\n",
        "df_clean['age'] = df_clean['age'].fillna(df_clean['age'].median())\n",
        "df_clean['income'] = df_clean['income'].fillna(df_clean['income'].median())\n",
        "df_clean['gender'] = df_clean['gender'].fillna(df_clean['gender'].mode()[0])\n"
      ],
      "metadata": {
        "colab": {
          "base_uri": "https://localhost:8080/"
        },
        "id": "TmdzA-_3Cdns",
        "outputId": "1039ecdf-837a-4e21-9479-9274b7a51a50"
      },
      "execution_count": 21,
      "outputs": [
        {
          "output_type": "stream",
          "name": "stdout",
          "text": [
            "id        0\n",
            "age       1\n",
            "state     0\n",
            "income    1\n",
            "gender    1\n",
            "dtype: int64\n"
          ]
        }
      ]
    },
    {
      "cell_type": "code",
      "source": [
        "import matplotlib.pyplot as plt\n",
        "\n",
        "# List your numeric columns\n",
        "num_cols = ['age', 'income']\n",
        "\n",
        "for col in num_cols:\n",
        "    plt.figure(figsize=(12, 4))\n",
        "    plt.subplot(1, 2, 1)\n",
        "    df_clean[col].hist(bins=15)\n",
        "    plt.title(f'Histogram of {col}')\n",
        "    plt.subplot(1, 2, 2)\n",
        "    df_clean.boxplot(column=col)\n",
        "    plt.title(f'Boxplot of {col}')\n",
        "    plt.show()\n",
        "\n",
        "    kurt = df_clean[col].kurt()\n",
        "    print(f\"Kurtosis of {col}: {kurt:.2f} (0 = normal, >0 = heavy tails, <0 = light tails)\")\n",
        "\n",
        "for col in num_cols:\n",
        "    mean_val = df_clean[col].mean()\n",
        "    median_val = df_clean[col].median()\n",
        "    mode_val = df_clean[col].mode()[0]\n",
        "    print(f\"{col}: mean = {mean_val:.2f}, median = {median_val:.2f}, mode = {mode_val}\")"
      ],
      "metadata": {
        "colab": {
          "base_uri": "https://localhost:8080/",
          "height": 852
        },
        "id": "HcBJSzYHCk58",
        "outputId": "1a3c4d05-f82d-42ae-fa94-9d5d5ce0a7db"
      },
      "execution_count": 23,
      "outputs": [
        {
          "output_type": "display_data",
          "data": {
            "text/plain": [
              "<Figure size 1200x400 with 2 Axes>"
            ],
            "image/png": "[encoded data removed]"
          },
          "metadata": {}
        },
        {
          "output_type": "stream",
          "name": "stdout",
          "text": [
            "Kurtosis of age: 8.68 (0 = normal, >0 = heavy tails, <0 = light tails)\n"
          ]
        },
        {
          "output_type": "display_data",
          "data": {
            "text/plain": [
              "<Figure size 1200x400 with 2 Axes>"
            ],
            "image/png": "[encoded data removed]"
          },
          "metadata": {}
        },
        {
          "output_type": "stream",
          "name": "stdout",
          "text": [
            "Kurtosis of income: 9.92 (0 = normal, >0 = heavy tails, <0 = light tails)\n",
            "age: mean = 36.40, median = 29.00, mode = 29.0\n",
            "income: mean = 150000.00, median = 60000.00, mode = 60000.0\n"
          ]
        }
      ]
    },
    {
      "cell_type": "markdown",
      "source": [
        "## Using Histograms to Spot Outliers in Numeric Columns\n",
        "\n",
        "- **Histograms** are a powerful tool for visualizing the distribution of numeric data.\n",
        "- When you plot a histogram for a column (like `age` or `income`), most data points should fall within a central range if the data is normal or close to normal.\n",
        "- **Outliers** will appear as bars that are far away from the main cluster of values, often isolated at one or both ends of the plot.\n"
      ],
      "metadata": {
        "id": "nmm9ynYYLjaW"
      }
    },
    {
      "cell_type": "markdown",
      "source": [
        "## Interpreting Mean, Median, Mode, and Kurtosis for `income`\n",
        "\n",
        "- When the **mean** is much higher than the **median** and **mode**, this suggests the distribution is **right-skewed**: a few very large incomes pull the mean upward, but most data is clustered at lower values.\n",
        "- The **median** (middle value) and **mode** (most common value) are close together and much lower than the mean—indicating that these are more typical income levels for most people in the dataset.\n",
        "- **High kurtosis** (much greater than 0) indicates heavy tails—many more extreme outlier values than a normal distribution would have.\n",
        "- In real-world data, this is very common for income: most people earn near the median/mode, but a few individuals have exceptionally high incomes (outliers).\n",
        "\n",
        "**Summary:**  \n",
        "If mean > median > mode and kurtosis is high, your data is right-skewed with a long tail of large values and lots of outliers.\n",
        "\n",
        "---\n",
        "\n",
        "## Alternative Plots for Visualizing Distribution\n",
        "\n",
        "Besides **histograms** and **boxplots**, you can try:\n",
        "\n",
        "- **Log-Transformed Histogram:** Compresses large values to reveal both the bulk and tail of the data.\n",
        "- **Violin Plot:** Combines boxplot and kernel density estimate for richer shape visualization.\n",
        "- **Strip Plot / Swarm Plot:** Plots each data point; great for seeing clustering and gaps.\n",
        "- **Empirical Cumulative Distribution Function (ECDF):** Shows\n",
        "## What if Mean < Median < Mode and Kurtosis is High?\n",
        "\n",
        "- When the **mean** is much lower than the **median**, which is in turn lower than the **mode**, your data is **left-skewed** (negatively skewed).\n",
        "- This means most values are clustered at the higher end, but there is a **long tail of smaller (low) values** pulling the mean down.\n",
        "- **High kurtosis** in this scenario means there are many unusually low outliers—more than expected in a normal distribution.\n",
        "\n",
        "**Summary:**  \n",
        "If mean < median < mode and kurtosis is high, your data is **left-skewed** with a long tail of small values and a significant number of low outliers.\n",
        "\n",
        "**Example in real life:**  \n",
        "Left skew can occur with variables like exam scores in an easy test (most students score high, but a few very low scores create a left tail), or ages at retirement in a place where most people retire at an older age,\n"
      ],
      "metadata": {
        "id": "mjiAOLVbNFta"
      }
    },
    {
      "cell_type": "code",
      "source": [
        "# 7. Outlier Detection and Removal (IQR method)\n",
        "Q1 = df_clean['income'].quantile(0.25)\n",
        "Q3 = df_clean['income'].quantile(0.75)\n",
        "IQR = Q3 - Q1\n",
        "lower_bound = Q1 - 1.5 * IQR\n",
        "upper_bound = Q3 + 1.5 * IQR\n",
        "print(f\"Income outlier bounds: {lower_bound:.2f} to {upper_bound:.2f}\")\n",
        "outliers = df_clean[(df_clean['income'] < lower_bound) | (df_clean['income'] > upper_bound)]\n",
        "print(\"Outlier rows:\\n\", outliers)\n",
        "df_no_outliers = df_clean[(df_clean['income'] >= lower_bound) & (df_clean['income'] <= upper_bound)]\n",
        "print(\"After removing outliers:\")\n",
        "print(df_no_outliers)\n",
        "\n"
      ],
      "metadata": {
        "colab": {
          "base_uri": "https://localhost:8080/"
        },
        "id": "BcnkBFRBIMNJ",
        "outputId": "e5aa7efa-6ebe-433d-deaa-5cc7eb9ad914"
      },
      "execution_count": 24,
      "outputs": [
        {
          "output_type": "stream",
          "name": "stdout",
          "text": [
            "Income outlier bounds: 28000.00 to 92000.00\n",
            "Outlier rows:\n",
            "    id   age state     income gender\n",
            "5   5  35.0    CA    20000.0      M\n",
            "8   8  28.0    CA  1000000.0      F\n",
            "After removing outliers:\n",
            "    id    age state   income gender\n",
            "0    1   25.0    NY  50000.0      M\n",
            "1    2   30.0    NY  60000.0      F\n",
            "3    3   22.0    TX  40000.0      F\n",
            "4    4   29.0    TX  80000.0      M\n",
            "6    6   40.0    CA  70000.0      M\n",
            "7    7  100.0    NY  60000.0      F\n",
            "10   9   26.0    CA  58000.0      M\n",
            "11  10   29.0    CA  62000.0      M\n"
          ]
        }
      ]
    },
    {
      "cell_type": "markdown",
      "source": [
        "## Detecting Outliers Using the Interquartile Range (IQR) Method\n",
        "\n",
        "**The IQR method** is a common way to identify outliers in numeric data, like `income`. Here’s how it works:\n",
        "\n",
        "1. **Calculate the quartiles:**\n",
        "   - **Q1:** The 25th percentile (value below which 25% of the data falls)\n",
        "   - **Q3:** The 75th percentile (value below which 75% of the data falls)\n",
        "2. **Compute the IQR:**\n",
        "   - **IQR = Q3 - Q1**\n",
        "3. **Determine outlier bounds:**\n",
        "   - **Lower bound:** Q1 - 1.5 × IQR\n",
        "   - **Upper bound:** Q3 + 1.5 × IQR\n",
        "4. **Any value below the lower bound or above the upper bound is considered an outlier.**\n",
        "\n",
        "---\n",
        "\n",
        "**Example with `income`:**\n",
        "\n",
        "- **Income outlier bounds:**  \n",
        "  Lower: `28,000.00`  \n",
        "  Upper: `92,000.00`\n",
        "\n",
        "Here, 20,000 (below lower bound) and 1,000,000 (above upper bound) are outliers.\n",
        "\n"
      ],
      "metadata": {
        "id": "ER30zG4KW5TO"
      }
    },
    {
      "cell_type": "code",
      "source": [
        "# 8. More Data Cleaning Examples\n",
        "# a) Categorical Encoding\n",
        "df_no_outliers['gender_num'] = df_no_outliers['gender'].map({'M': 0, 'F': 1})\n",
        "\n",
        "# b) Remove Irrelevant Columns\n",
        "df_no_outliers = df_no_outliers.drop(columns=['id'])\n",
        "\n",
        "# c) Creating New Features\n",
        "df_no_outliers['income_per_age'] = df_no_outliers['income'] / df_no_outliers['age']"
      ],
      "metadata": {
        "colab": {
          "base_uri": "https://localhost:8080/"
        },
        "id": "m2MLLLkxTbGO",
        "outputId": "aa1b7b69-b5c5-4823-bfdf-3c1b3403d1cc"
      },
      "execution_count": 25,
      "outputs": [
        {
          "output_type": "stream",
          "name": "stderr",
          "text": [
            "/tmp/ipython-input-25-3975238158.py:3: SettingWithCopyWarning: \n",
            "A value is trying to be set on a copy of a slice from a DataFrame.\n",
            "Try using .loc[row_indexer,col_indexer] = value instead\n",
            "\n",
            "See the caveats in the documentation: https://pandas.pydata.org/pandas-docs/stable/user_guide/indexing.html#returning-a-view-versus-a-copy\n",
            "  df_no_outliers['gender_num'] = df_no_outliers['gender'].map({'M': 0, 'F': 1})\n"
          ]
        }
      ]
    },
    {
      "cell_type": "code",
      "source": [],
      "metadata": {
        "id": "Fe9G-n2NXxWN"
      },
      "execution_count": null,
      "outputs": []
    }
  ]
}